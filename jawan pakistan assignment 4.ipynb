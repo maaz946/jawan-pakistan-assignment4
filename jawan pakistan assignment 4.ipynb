{
 "cells": [
  {
   "cell_type": "code",
   "execution_count": 5,
   "id": "e6932bae",
   "metadata": {},
   "outputs": [
    {
     "name": "stdout",
     "output_type": "stream",
     "text": [
      "enter first number5\n",
      "enter second number3\n",
      "enter operator  'Add' for addition \n",
      "              'sub' for sutarction\n",
      "              'mult' for multiplication\n",
      "              'divd' for division\n",
      "              'pov' for powerpov\n",
      "125\n"
     ]
    }
   ],
   "source": [
    "#Q1\n",
    "#Make a calculator using Python with addition , subtraction ,\n",
    "#multiplication ,division and power.\n",
    "\n",
    "def add(a,b):\n",
    "    return a+b\n",
    "def subt(a,b):\n",
    "    return a-b\n",
    "def mult(a,b):\n",
    "    return a**b\n",
    "def divide(a,b):\n",
    "    return a/b\n",
    "def pov(a,b):\n",
    "    return a**b\n",
    "a=int(input(\"enter first number\"))\n",
    "b=int(input(\"enter second number\"))\n",
    "opert=input(\"\"\"enter operator  'Add' for addition \n",
    "              'sub' for sutarction\n",
    "              'mult' for multiplication\n",
    "              'divd' for division\n",
    "              'pov' for power\"\"\")\n",
    "opert1=opert.lower()\n",
    "if opert==\"add\":\n",
    "    print(add(a,b))\n",
    "elif opert==\"sub\":\n",
    "     print(subt(a,b))\n",
    "elif opert==\"divd\":\n",
    "     print(divide(a,b))\n",
    "elif opert==\"pov\":\n",
    "     print(pov(a,b))\n",
    "else:\n",
    "    print(\" enter wrong value: \",opert)\n"
   ]
  },
  {
   "cell_type": "code",
   "execution_count": 6,
   "id": "a09e7bb9",
   "metadata": {},
   "outputs": [
    {
     "name": "stdout",
     "output_type": "stream",
     "text": [
      "number is present:  23\n"
     ]
    }
   ],
   "source": [
    "#Q2\n",
    "list=[\"asdd\",'eddd',23,'344','4dd']\n",
    "for i in list:\n",
    "    if type(i)==int:\n",
    "        print(\"number is present: \",i)"
   ]
  },
  {
   "cell_type": "code",
   "execution_count": 12,
   "id": "9c5fc62f",
   "metadata": {},
   "outputs": [
    {
     "name": "stdout",
     "output_type": "stream",
     "text": [
      "{0: 10, 1: 20}\n",
      "{0: 10, 1: 20, 2: 30}\n"
     ]
    },
    {
     "data": {
      "text/plain": [
       "dict_values([10, 20, 30])"
      ]
     },
     "execution_count": 12,
     "metadata": {},
     "output_type": "execute_result"
    }
   ],
   "source": [
    "#Q3\n",
    "d = {0:10, 1:20}\n",
    "print(d)\n",
    "d.update({2:30})\n",
    "print(d)\n",
    "d.values()"
   ]
  },
  {
   "cell_type": "code",
   "execution_count": 17,
   "id": "db720c20",
   "metadata": {},
   "outputs": [
    {
     "name": "stdout",
     "output_type": "stream",
     "text": [
      "{0: 10, 1: 20}\n",
      "60\n"
     ]
    }
   ],
   "source": [
    "#Q4\n",
    "d = {0:10, 1:20}\n",
    "print(d)\n",
    "d.update({2:30})\n",
    "Sum=0\n",
    "lst=d.values()\n",
    "for i in lst:\n",
    "    if type(i)==int:\n",
    "        Sum+=i\n",
    "print(Sum)"
   ]
  },
  {
   "cell_type": "code",
   "execution_count": 18,
   "id": "f8525cc9",
   "metadata": {},
   "outputs": [
    {
     "name": "stdout",
     "output_type": "stream",
     "text": [
      "2 3 4 5 "
     ]
    }
   ],
   "source": [
    "#Q5\n",
    "l=[1,2,3,4,5,2,3,4,7,9,5]\n",
    "l1=[]\n",
    "for i in l:\n",
    "    if i not in l1:\n",
    "        l1.append(i)\n",
    "    else:\n",
    "        print(i,end=' ')"
   ]
  },
  {
   "cell_type": "code",
   "execution_count": 20,
   "id": "173524dd",
   "metadata": {},
   "outputs": [
    {
     "name": "stdout",
     "output_type": "stream",
     "text": [
      "enter first number3\n",
      "Key is present in the dictionary\n"
     ]
    }
   ],
   "source": [
    "#Q6\n",
    "d = {1: 10, 2: 20, 3: 30, 4: 40, 5: 50, 6: 60}\n",
    "a=int(input(\"enter first number\"))\n",
    "if a in d:\n",
    "      print('Key is present in the dictionary')\n",
    "else:\n",
    "      print('Key is not present in the dictionary')"
   ]
  },
  {
   "cell_type": "code",
   "execution_count": null,
   "id": "ac934f5c",
   "metadata": {},
   "outputs": [],
   "source": []
  }
 ],
 "metadata": {
  "kernelspec": {
   "display_name": "Python 3",
   "language": "python",
   "name": "python3"
  },
  "language_info": {
   "codemirror_mode": {
    "name": "ipython",
    "version": 3
   },
   "file_extension": ".py",
   "mimetype": "text/x-python",
   "name": "python",
   "nbconvert_exporter": "python",
   "pygments_lexer": "ipython3",
   "version": "3.8.8"
  }
 },
 "nbformat": 4,
 "nbformat_minor": 5
}
